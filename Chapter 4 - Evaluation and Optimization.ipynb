{
 "cells": [
  {
   "cell_type": "markdown",
   "metadata": {},
   "source": [
    "# Chapter 4 - Evaluation and Optimization"
   ]
  },
  {
   "cell_type": "code",
   "execution_count": 1,
   "metadata": {},
   "outputs": [
    {
     "name": "stdout",
     "output_type": "stream",
     "text": [
      "Populating the interactive namespace from numpy and matplotlib\n"
     ]
    }
   ],
   "source": [
    "%pylab inline\n",
    "import pandas as pandas"
   ]
  },
  {
   "cell_type": "markdown",
   "metadata": {},
   "source": [
    "We generate two inputs:\n",
    "* features – a matrix of input features\n",
    "* target – an array of target variables corresponding to those features"
   ]
  },
  {
   "cell_type": "code",
   "execution_count": 4,
   "metadata": {},
   "outputs": [],
   "source": [
    "features = rand(100,5)\n",
    "target = rand(100) > 0.5"
   ]
  },
  {
   "cell_type": "markdown",
   "metadata": {},
   "source": [
    "### The holdout method\n",
    "\n",
    "We divide into a randomized training and test set:"
   ]
  },
  {
   "cell_type": "code",
   "execution_count": 2,
   "metadata": {},
   "outputs": [
    {
     "data": {
      "text/plain": [
       "70"
      ]
     },
     "execution_count": 2,
     "metadata": {},
     "output_type": "execute_result"
    }
   ],
   "source": [
    "int(floor(0.7*100))"
   ]
  },
  {
   "cell_type": "code",
   "execution_count": 5,
   "metadata": {},
   "outputs": [],
   "source": [
    "N = features.shape[0]\n",
    "N_train = int(floor(0.7 * N))\n",
    "\n",
    "# Randomize index\n",
    "# Note: sometimes you want to retain the order in the dataset and skip this step\n",
    "# E.g. in the case of time-based datasets where you want to test on 'later' instances\n",
    "idx = random.permutation(N)\n",
    "\n",
    "# Split index\n",
    "idx_train = idx[:N_train]\n",
    "idx_test = idx[N_train:]\n",
    "\n",
    "# Break your data into training and testing subsets\n",
    "features_train = features[idx_train,:]\n",
    "target_train = target[idx_train]\n",
    "features_test = features[idx_test,:]\n",
    "target_test = target[idx_test]\n",
    "\n",
    "# Build, predict, evaluate (to be filled out)\n",
    "# model = train(features_train, target_train)\n",
    "# preds_test = predict(model, features_test)\n",
    "# accuracy = evaluate_acc(preds_test, target_test)"
   ]
  },
  {
   "cell_type": "code",
   "execution_count": 6,
   "metadata": {},
   "outputs": [
    {
     "name": "stdout",
     "output_type": "stream",
     "text": [
      "(70, 5)\n",
      "(30, 5)\n",
      "(70,)\n",
      "(30,)\n"
     ]
    }
   ],
   "source": [
    "print(features_train.shape)\n",
    "print(features_test.shape)\n",
    "print(target_train.shape)\n",
    "print(target_test.shape)"
   ]
  },
  {
   "cell_type": "markdown",
   "metadata": {},
   "source": [
    "### K-fold cross-validation"
   ]
  },
  {
   "cell_type": "code",
   "execution_count": 98,
   "metadata": {},
   "outputs": [
    {
     "name": "stdout",
     "output_type": "stream",
     "text": [
      "[2 2 8 6 8 8 9 5 7 1 9 2 3 0 9 2 7 6 4 1 7 7 6 5 4 5 2 4 7 4 8 5 8 1 2 0 4\n",
      " 6 8 5 1 0 9 8 4 0 7 1 0 7 4 2 0 3 2 9 5 5 4 8 9 4 5 5 6 2 2 0 9 0 7 2 9 3\n",
      " 4 1 1 2 1 3 6 8 1 7 5 4 9 0 5 2 9 9 9 6 8 2 3 7 2 9]\n",
      "Positions of 0 in fold array: [13 35 41 45 48 52 67 69 87]\n",
      "Positions of 1 in fold array: [ 9 19 33 40 47 75 76 78 82]\n",
      "Positions of 2 in fold array: [ 0  1 11 15 26 34 51 54 65 66 71 77 89 95 98]\n",
      "Positions of 3 in fold array: [12 53 73 79 96]\n",
      "Positions of 4 in fold array: [18 24 27 29 36 44 50 58 61 74 85]\n",
      "Positions of 5 in fold array: [ 7 23 25 31 39 56 57 62 63 84 88]\n",
      "Positions of 6 in fold array: [ 3 17 22 37 64 80 93]\n",
      "Positions of 7 in fold array: [ 8 16 20 21 28 46 49 70 83 97]\n",
      "Positions of 8 in fold array: [ 2  4  5 30 32 38 43 59 81 94]\n",
      "Positions of 9 in fold array: [ 6 10 14 42 55 60 68 72 86 90 91 92 99]\n"
     ]
    }
   ],
   "source": [
    "N = features.shape[0]\n",
    "K = 10 # number of folds\n",
    "\n",
    "preds_kfold = np.empty(N)\n",
    "folds = np.random.randint(0, K, size=N)\n",
    "print(folds)\n",
    "for idx in np.arange(K):\n",
    "\n",
    "    # For each fold, break your data into training and testing subsets\n",
    "    features_train = features[folds != idx,:]\n",
    "    target_train = target[folds != idx]\n",
    "    features_test = features[folds == idx,:]\n",
    "    \n",
    "    # Print the indices in each fold, for inspection\n",
    "    print(\"Positions of \"+str(idx)+\" in fold array: \", end=\"\")\n",
    "    print(nonzero(folds == idx)[0])\n",
    "\n",
    "    # Build and predict for CV fold (to be filled out)\n",
    "    # model = train(features_train, target_train)\n",
    "    # preds_kfold[folds == idx] = predict(model, features_test)\n",
    "    \n",
    "# accuracy = evaluate_acc(preds_kfold, target)"
   ]
  },
  {
   "cell_type": "markdown",
   "metadata": {},
   "source": [
    "### The ROC curve"
   ]
  },
  {
   "cell_type": "code",
   "execution_count": 35,
   "metadata": {},
   "outputs": [],
   "source": [
    "def roc_curve(true_labels, predicted_probs, n_points=100, pos_class=1):\n",
    "    thr = linspace(0,1,n_points)\n",
    "    tpr = zeros(n_points)\n",
    "    fpr = zeros(n_points)\n",
    "\n",
    "    pos = true_labels == pos_class\n",
    "    neg = logical_not(pos)\n",
    "    n_pos = count_nonzero(pos)\n",
    "    n_neg = count_nonzero(neg)\n",
    "      \n",
    "    for i,t in enumerate(thr):\n",
    "        tpr[i] = count_nonzero(logical_and(predicted_probs >= t, pos)) / n_pos\n",
    "        fpr[i] = count_nonzero(logical_and(predicted_probs >= t, neg)) / n_neg\n",
    "    \n",
    "    return fpr, tpr, thr\n"
   ]
  },
  {
   "cell_type": "code",
   "execution_count": 36,
   "metadata": {},
   "outputs": [
    {
     "data": {
      "text/plain": [
       "[<matplotlib.lines.Line2D at 0x1e6a3bf48d0>]"
      ]
     },
     "execution_count": 36,
     "metadata": {},
     "output_type": "execute_result"
    },
    {
     "data": {
      "image/png": "[encoded data removed]",
      "text/plain": [
       "<Figure size 432x288 with 1 Axes>"
      ]
     },
     "metadata": {
      "needs_background": "light"
     },
     "output_type": "display_data"
    }
   ],
   "source": [
    "# Randomly generated predictions should give us a diagonal ROC curve\n",
    "preds = rand(len(target))\n",
    "fpr, tpr, thr = roc_curve(target, preds, pos_class=True)\n",
    "plot(fpr, tpr)"
   ]
  },
  {
   "cell_type": "markdown",
   "metadata": {},
   "source": [
    "### The area under the ROC curve"
   ]
  },
  {
   "cell_type": "code",
   "execution_count": 37,
   "metadata": {},
   "outputs": [],
   "source": [
    "def auc(true_labels, predicted_labels, pos_class=1):\n",
    "    fpr, tpr, thr = roc_curve(true_labels, predicted_labels,\n",
    " pos_class=pos_class)\n",
    "    area = -trapz(tpr, x=fpr)\n",
    "    return area"
   ]
  },
  {
   "cell_type": "code",
   "execution_count": 38,
   "metadata": {},
   "outputs": [
    {
     "data": {
      "text/plain": [
       "0.5091314935064936"
      ]
     },
     "execution_count": 38,
     "metadata": {},
     "output_type": "execute_result"
    }
   ],
   "source": [
    "auc(target, preds, pos_class=True)"
   ]
  },
  {
   "cell_type": "markdown",
   "metadata": {},
   "source": [
    "### Multi-class classification"
   ]
  },
  {
   "cell_type": "code",
   "execution_count": 40,
   "metadata": {},
   "outputs": [],
   "source": [
    "d = pandas.read_csv(\"data/mnist_small.csv\")\n",
    "d_train = d[:int(0.8*len(d))]\n",
    "d_test = d[int(0.8*len(d)):]"
   ]
  },
  {
   "cell_type": "code",
   "execution_count": 41,
   "metadata": {},
   "outputs": [
    {
     "name": "stderr",
     "output_type": "stream",
     "text": [
      "C:\\Users\\thimo\\Anaconda3\\lib\\site-packages\\sklearn\\ensemble\\forest.py:246: FutureWarning: The default value of n_estimators will change from 10 in version 0.20 to 100 in 0.22.\n",
      "  \"10 in version 0.20 to 100 in 0.22.\", FutureWarning)\n"
     ]
    },
    {
     "data": {
      "text/plain": [
       "RandomForestClassifier(bootstrap=True, class_weight=None, criterion='gini',\n",
       "            max_depth=None, max_features='auto', max_leaf_nodes=None,\n",
       "            min_impurity_decrease=0.0, min_impurity_split=None,\n",
       "            min_samples_leaf=1, min_samples_split=2,\n",
       "            min_weight_fraction_leaf=0.0, n_estimators=10, n_jobs=None,\n",
       "            oob_score=False, random_state=None, verbose=0,\n",
       "            warm_start=False)"
      ]
     },
     "execution_count": 41,
     "metadata": {},
     "output_type": "execute_result"
    }
   ],
   "source": [
    "from sklearn.ensemble import RandomForestClassifier\n",
    "rf = RandomForestClassifier()\n",
    "rf.fit(d_train.drop('label', axis=1), d_train['label'])"
   ]
  },
  {
   "cell_type": "code",
   "execution_count": 42,
   "metadata": {},
   "outputs": [],
   "source": [
    "from sklearn.metrics import confusion_matrix\n",
    "preds = rf.predict(d_test.drop('label', axis=1))\n",
    "cm = confusion_matrix(d_test['label'], preds)"
   ]
  },
  {
   "cell_type": "code",
   "execution_count": 43,
   "metadata": {},
   "outputs": [
    {
     "data": {
      "image/png": "[encoded data removed]",
      "text/plain": [
       "<Figure size 288x288 with 2 Axes>"
      ]
     },
     "metadata": {
      "needs_background": "light"
     },
     "output_type": "display_data"
    }
   ],
   "source": [
    "matshow(cm, cmap='Greys')\n",
    "colorbar()\n",
    "savefig(\"figures/figure-4.19.eps\", format='eps')"
   ]
  },
  {
   "cell_type": "markdown",
   "metadata": {},
   "source": [
    "### The root-mean-square error"
   ]
  },
  {
   "cell_type": "code",
   "execution_count": 44,
   "metadata": {},
   "outputs": [],
   "source": [
    "def rmse(true_values, predicted_values):\n",
    "    n = len(true_values)\n",
    "    residuals = 0\n",
    "    for i in range(n):\n",
    "        residuals += (true_values[i] - predicted_values[i])**2.\n",
    "    return np.sqrt(residuals/n)"
   ]
  },
  {
   "cell_type": "code",
   "execution_count": 46,
   "metadata": {},
   "outputs": [
    {
     "data": {
      "text/plain": [
       "0.45249843652505634"
      ]
     },
     "execution_count": 46,
     "metadata": {},
     "output_type": "execute_result"
    }
   ],
   "source": [
    "rmse(rand(10), rand(10))"
   ]
  },
  {
   "cell_type": "markdown",
   "metadata": {},
   "source": [
    "### The R-squared error"
   ]
  },
  {
   "cell_type": "code",
   "execution_count": 47,
   "metadata": {},
   "outputs": [],
   "source": [
    "def r2(true_values, predicted_values):\n",
    "    n = len(true_values)\n",
    "    mean = np.mean(true_values)\n",
    "    residuals = 0\n",
    "    total = 0\n",
    "    for i in range(n):\n",
    "        residuals += (true_values[i] - predicted_values[i])**2.\n",
    "        total += (true_values[i] - mean)**2.\n",
    "    return 1.0 - residuals/total"
   ]
  },
  {
   "cell_type": "code",
   "execution_count": 48,
   "metadata": {},
   "outputs": [
    {
     "data": {
      "text/plain": [
       "0.9914064605577929"
      ]
     },
     "execution_count": 48,
     "metadata": {},
     "output_type": "execute_result"
    }
   ],
   "source": [
    "r2(arange(10)+rand(), arange(10)+rand(10))"
   ]
  },
  {
   "cell_type": "markdown",
   "metadata": {},
   "source": [
    "### Grid search with kernel-SVM model\n",
    "\n",
    "Importing modules:"
   ]
  },
  {
   "cell_type": "code",
   "execution_count": 49,
   "metadata": {},
   "outputs": [],
   "source": [
    "from sklearn.metrics import roc_auc_score\n",
    "from sklearn.svm import SVC"
   ]
  },
  {
   "cell_type": "markdown",
   "metadata": {},
   "source": [
    "Loading data and performang poor-mans feature engineering:"
   ]
  },
  {
   "cell_type": "code",
   "execution_count": 50,
   "metadata": {},
   "outputs": [],
   "source": [
    "d = pandas.read_csv(\"data/titanic.csv\")\n",
    "\n",
    "# Target\n",
    "y = d[\"Survived\"]\n",
    "\n",
    "# Features\n",
    "X = d.drop([\"Survived\", \"PassengerId\", \"Cabin\",\"Ticket\",\"Name\", \"Fare\"], axis=1)\n",
    "X['Sex'] = list(map(lambda x: 1 if x==\"male\" else 0, X['Sex']))\n",
    "X['Embarked-Q'] = list(map(lambda x: 1 if x==\"Q\" else 0, X['Embarked']))\n",
    "X['Embarked-C'] = list(map(lambda x: 1 if x==\"C\" else 0, X['Embarked']))\n",
    "X['Embarked-S'] = list(map(lambda x: 1 if x==\"S\" else 0, X['Embarked']))\n",
    "X = X.drop([\"Embarked\", \"Sex\"], axis=1)\n",
    "X = X.fillna(-1)"
   ]
  },
  {
   "cell_type": "code",
   "execution_count": null,
   "metadata": {},
   "outputs": [],
   "source": []
  },
  {
   "cell_type": "markdown",
   "metadata": {},
   "source": [
    "Performing grid-search to find the optimal hyper-parameters:"
   ]
  },
  {
   "cell_type": "code",
   "execution_count": 63,
   "metadata": {},
   "outputs": [
    {
     "name": "stdout",
     "output_type": "stream",
     "text": [
      "Maximum = 0.632\n",
      "Tuning Parameters: (gamma = 1.02, C = 1.89)\n"
     ]
    }
   ],
   "source": [
    "# grid of (gamma, C) values to try \n",
    "gam_vec, cost_vec = np.meshgrid(np.logspace(0.01, 0.1, 11),\n",
    "                     np.linspace(1, 5, 10))\n",
    "\n",
    "AUC_all = [] # initialize empty array to store AUC results\n",
    "\n",
    "# set up cross-validation folds\n",
    "N = len(y)\n",
    "K = 10 # number of cross-validation folds\n",
    "folds = np.random.randint(0, K, size=N)\n",
    "\n",
    "# search over every value of the grid\n",
    "for param_ind in np.arange(len(gam_vec.ravel())):\n",
    "\n",
    "    # initialize cross-validation predictions\n",
    "    y_cv_pred = np.empty(N)\n",
    "\n",
    "    # loop through the cross-validation folds\n",
    "    for ii in np.arange(K):\n",
    "        # break your data into training and testing subsets\n",
    "        # X_train = X.ix[folds != ii,:]\n",
    "        # y_train = y.ix[folds != ii]\n",
    "        # X_test = X.ix[folds == ii,:]\n",
    "        X_train = X.iloc[folds != ii,:]\n",
    "        y_train = y.iloc[folds != ii]\n",
    "        X_test = X.iloc[folds == ii,:]\n",
    "        #X_train = X.iloc[folds, :]\n",
    "        #X_train = X_train.drop(ii)\n",
    "        #y_train = y.iloc[folds]\n",
    "        #y_train = y.drop(ii)\n",
    "        #X_test = X.iloc[folds, :]\n",
    "        #X_test = X_test[folds == ii]\n",
    "        \n",
    "        # build a model on the training set\n",
    "        model = SVC(gamma=gam_vec.ravel()[param_ind], C=cost_vec.ravel()[param_ind])\n",
    "        model.fit(X_train, y_train)\n",
    "\n",
    "        # generate and store model predictions on the testing set\n",
    "        y_cv_pred[folds == ii] = model.predict(X_test)\n",
    "\n",
    "    # evaluate the AUC of the predictions\n",
    "    AUC_all.append(roc_auc_score(y, y_cv_pred))\n",
    "\n",
    "indmax = np.argmax(AUC_all)\n",
    "print(\"Maximum = %.3f\" % (np.max(AUC_all)))\n",
    "print(\"Tuning Parameters: (gamma = %.2f, C = %.2f)\" % (gam_vec.ravel()[indmax], cost_vec.ravel()[indmax]))"
   ]
  },
  {
   "cell_type": "code",
   "execution_count": 102,
   "metadata": {},
   "outputs": [
    {
     "name": "stdout",
     "output_type": "stream",
     "text": [
      "[2 2 8 6 8 8 9 5 7 1 9 2 3 0 9 2 7 6 4 1 7 7 6 5 4 5 2 4 7 4 8 5 8 1 2 0 4\n",
      " 6 8 5 1 0 9 8 4 0 7 1 0 7 4 2 0 3 2 9 5 5 4 8 9 4 5 5 6 2 2 0 9 0 7 2 9 3\n",
      " 4 1 1 2 1 3 6 8 1 7 5 4 9 0 5 2 9 9 9 6 8 2 3 7 2 9]\n",
      "    Pclass   Age  SibSp  Parch  Embarked-Q  Embarked-C  Embarked-S\n",
      "2        3  26.0      0      0           0           0           1\n",
      "3        1  35.0      1      0           0           0           1\n",
      "4        3  35.0      0      0           0           0           1\n",
      "5        3  -1.0      0      0           1           0           0\n",
      "6        1  54.0      0      0           0           0           1\n",
      "7        3   2.0      3      1           0           0           1\n",
      "8        3  27.0      0      2           0           0           1\n",
      "9        2  14.0      1      0           0           1           0\n",
      "10       3   4.0      1      1           0           0           1\n",
      "12       3  20.0      0      0           0           0           1\n",
      "13       3  39.0      1      5           0           0           1\n",
      "14       3  14.0      0      0           0           0           1\n",
      "16       3   2.0      4      1           1           0           0\n",
      "17       2  -1.0      0      0           0           0           1\n",
      "18       3  31.0      1      0           0           0           1\n",
      "19       3  -1.0      0      0           0           1           0\n",
      "20       2  35.0      0      0           0           0           1\n",
      "21       2  34.0      0      0           0           0           1\n",
      "22       3  15.0      0      0           1           0           0\n",
      "23       1  28.0      0      0           0           0           1\n",
      "    Pclass   Age  SibSp  Parch  Embarked-Q  Embarked-C  Embarked-S\n",
      "0        3  22.0      1      0           0           0           1\n",
      "1        1  38.0      1      0           0           1           0\n",
      "11       1  58.0      0      0           0           0           1\n",
      "15       2  55.0      0      0           0           0           1\n",
      "26       3  -1.0      0      0           0           1           0\n",
      "34       1  28.0      1      0           0           1           0\n",
      "51       3  21.0      0      0           0           0           1\n",
      "54       1  65.0      0      1           0           1           0\n",
      "65       3  -1.0      1      1           0           1           0\n",
      "66       2  29.0      0      0           0           0           1\n",
      "71       3  16.0      5      2           0           0           1\n",
      "77       3  -1.0      0      0           0           0           1\n",
      "89       3  24.0      0      0           0           0           1\n",
      "95       3  -1.0      0      0           0           0           1\n",
      "98       2  34.0      0      1           0           0           1\n"
     ]
    }
   ],
   "source": [
    "ix=2\n",
    "print(folds)\n",
    "# Train subset taking all rows except the ones with index == to the positions of ix in the folds array\n",
    "X_train = X.iloc[folds!=ix,:]\n",
    "print(X_train.head(20))\n",
    "X_test = X.iloc[folds==ix,:]\n",
    "print(X_test.head(20))"
   ]
  },
  {
   "cell_type": "code",
   "execution_count": null,
   "metadata": {},
   "outputs": [],
   "source": []
  },
  {
   "cell_type": "markdown",
   "metadata": {},
   "source": [
    "Plotting the contours of the parameter performance:"
   ]
  },
  {
   "cell_type": "code",
   "execution_count": 65,
   "metadata": {},
   "outputs": [
    {
     "data": {
      "image/png": "[encoded data removed]",
      "text/plain": [
       "<Figure size 432x288 with 2 Axes>"
      ]
     },
     "metadata": {
      "needs_background": "light"
     },
     "output_type": "display_data"
    }
   ],
   "source": [
    "AUC_grid = np.array(AUC_all).reshape(gam_vec.shape)\n",
    "\n",
    "contourf(gam_vec, cost_vec, AUC_grid, 20, cmap='Greys')\n",
    "xlabel(\"kernel coefficient, gamma\")\n",
    "ylabel(\"penalty parameter, C\")\n",
    "colorbar()\n",
    "savefig(\"figures/figure-4.25.eps\", format='eps')"
   ]
  },
  {
   "cell_type": "code",
   "execution_count": null,
   "metadata": {
    "collapsed": true
   },
   "outputs": [],
   "source": []
  }
 ],
 "metadata": {
  "kernelspec": {
   "display_name": "Python 3",
   "language": "python",
   "name": "python3"
  },
  "language_info": {
   "codemirror_mode": {
    "name": "ipython",
    "version": 3
   },
   "file_extension": ".py",
   "mimetype": "text/x-python",
   "name": "python",
   "nbconvert_exporter": "python",
   "pygments_lexer": "ipython3",
   "version": "3.7.1"
  }
 },
 "nbformat": 4,
 "nbformat_minor": 1
}
